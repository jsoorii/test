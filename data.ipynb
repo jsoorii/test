# 데이터 수집해보기
### 야후 증권 사이트에서 LG 전자의 데이터를 수집해 봅시다.
![%E1%84%89%E1%85%B3%E1%84%8F%E1%85%B3%E1%84%85%E1%85%B5%E1%86%AB%E1%84%89%E1%85%A3%E1%86%BA%202022-03-16%20%E1%84%8B%E1%85%A9%E1%84%92%E1%85%AE%2011.29.52.png](attachment:%E1%84%89%E1%85%B3%E1%84%8F%E1%85%B3%E1%84%85%E1%85%B5%E1%86%AB%E1%84%89%E1%85%A3%E1%86%BA%202022-03-16%20%E1%84%8B%E1%85%A9%E1%84%92%E1%85%AE%2011.29.52.png)
# 필요한 모듈을 설치합니다.
# 1) pandas_datareader 모듈과 yfinance 모듈을 설치하세요.
?
?
# 필요한 모듈을 임포트 합니다.
from pandas_datareader import data as pdr
import yfinance as yf  
yf.pdr_override()

# 필요한 모듈을 임포트 합니다.
# 2) datetime 모듈을 datetime 클래스를 임포트하세요.
?
from dateutil.relativedelta import relativedelta
# 3) datetime 클래스를 이용해 현재 시간을 now 변수에 저장하세요.
now = ?

before = now - relativedelta(years=10)

# 현재 시간을 기준으로 시작 시간과 종료 시간을 문자열로 만들기
now_day = now.strftime("%Y-%m-%d")
befor_day = before.strftime("%Y-%m-%d")
print(f"end  : {now_day}")
print(f"start: {befor_day}")

# 4) get_data_yahoo 메서드를 이용해서 LG 전자의 주가데이터를 불러옵니다.
lg_stock = pdr.?("066570.KS", start=befor_day, end=now_day)

# 주가 데이터가 잘 불러와졌는지 확인합니다.
print(lg_stock)


# 5) 데이터 프레임의 데이터를 확인하기 위해 일부 데이터를 출력해보세요.
lg_stock.?

# 6) 데이터 구조와 타입 확인해보세요.
lg_stock.?


# 7) 수치 데이터 요약을 출력해보세요.
lg_stock.?

# 골든 크로스, 데드 크로스 그래프 그리기
# 매수, 매도 타이밍 알아내기
# 시계열 데이터를 시각화해본다.
# 이평선 : 이동 평균
# 단기 이평 : 5, 10, 15
# 장기 이평 : 20, 30 60, 120
# 어제 장기 이평 > 단기 이평 : 오늘 단기 > 장기
# 어제 단기 > 장기 : 오늘 장기 > 단기

# 8) 현재 인덱스를 다시 데이터 열로 만드세요.
lg_stock.?
# 9) 데이터 프레임의 컬럼명을 변경 해보세요.
"""
Data : 일자
Open : 시가
High : 고가
Low : 저가
Close : 종가
"""
lg_stock = lg_stock.?

# 변경이 잘 되었는지 확인해봅니다.
lg_stock.head()

# 10) 일자 컬럼을 다시 인덱스로 만드세요.
lg_stock.?('일자', inplace=True)

# 잘 변경되었는지 확인해봅시다.
lg_stock.head()
# 새로운 컬럼을 만들어서 데이터를 추가한다!
# 11) 5일씩 묶어서 5일이평, 10일씩 묶어서 10일이평 ...컬럼을 만들어 추가해 보세요.
# 5일, 10일, 15일, 20일, 30일, 60일
# * 이평이란 해당 일자 만큼의 종가 가격을 합쳐 평균을 낸 것을 의미합니다.
?
# 생성이 잘 되었나 확인해봅시다.
lg_stock.head()

# 오늘 것들끼리 비교, 어제 것들끼리 비교
# 컬럼의 데이터끼리 비교를 수행할 수 있습니다.
lg_stock['5일이평'] > lg_stock['30일이평']

# 12) 5일 이평과 30일 이평을 한 로우씩 아래로 내려 어제5일이평, 어제30일이평 이라는 컬럼을 추가해보세요.
lg_stock['어제5일이평'] = lg_stock['5일이평'].?
?

# 13) 5일이평, 어제5일이평, 30일이평, 어제30일이평 4개 컬럼을 이용해서 골든 데드 크로스가 발생하는지 여부를 확인해보세요.
# 골든 (어제는 단기 이평이 장기 이평보다 낮았는데, 오늘은 단기 이평이 장기 이평보다 높다.)
lg_stock['is_golden'] = (lg_stock['5일이평'] ? lg_stock['30일이평']) ? (lg_stock['어제5일이평'] ? lg_stock['어제30일이평'])
# 데드 (어제는 단기 이평이 장기 이평보다 높았는데, 오늘은 단기 이평기 장기 이평보다 낮다.)
lg_stock['is_dead'] = ?

# 데이터가 잘 생성되었는지 확인해봅시다.
lg_stock.head()

# 컬럼 삭제하기 : 원본에서 삭제
# 14) 필요 없는 Adj Close, Volume, 20일이평, 60일이평 컬럼을 삭제해보세요.
lg_stock = lg_stock.?

lg_stock.columns
# 15) '종가','5일이평','30일이평','어제5일이평', '어제30일이평','is_golden', 'is_dead' 만 남겨놓고 나머지 컬럼을 다 삭제하세요.
lg_stock = lg_stock.?
# 16) 시각화 모듈은 matplotlib을 import 하세요.
?
# 17) 아래 그래프 그림을 참고하여 그래프를 그려보세요.
# 5일이평, 30일이평 꺾은선 그래프
# Golden 크로스 발생 지점은 gold 컬러로 삼각형 마커
# Dead 크로스 발생 지점은 black 컬러로 역삼각형 마크
# 범례는 best 위치에 표기
# 그리드 표시
# 타이틀 : LG Stock Graph
# x축 레이블 : Date
# y축 레이블 : Price
# 타이트 레이아웃 사용하기
